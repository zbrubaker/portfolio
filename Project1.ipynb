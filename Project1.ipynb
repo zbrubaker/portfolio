{
  "nbformat": 4,
  "nbformat_minor": 0,
  "metadata": {
    "colab": {
      "provenance": [],
      "toc_visible": true,
      "authorship_tag": "ABX9TyOoIU5zC3e2h9LIwM1VjNUj",
      "include_colab_link": true
    },
    "kernelspec": {
      "name": "python3",
      "display_name": "Python 3"
    },
    "language_info": {
      "name": "python"
    }
  },
  "cells": [
    {
      "cell_type": "markdown",
      "metadata": {
        "id": "view-in-github",
        "colab_type": "text"
      },
      "source": [
        "<a href=\"https://colab.research.google.com/github/zbrubaker/portfolio/blob/main/Project1.ipynb\" target=\"_parent\"><img src=\"https://colab.research.google.com/assets/colab-badge.svg\" alt=\"Open In Colab\"/></a>"
      ]
    },
    {
      "cell_type": "markdown",
      "source": [
        "#Truth Table\n",
        "\n",
        "The following is a truth table for ```A AND !B```\n",
        "```\n",
        "          B \n",
        "    |  0  |  1  |\n",
        "  --|-----------| \n",
        "  0 |  0  |  0  |\n",
        "A --|-----------|\n",
        "  1 |  1  |  0  |\n",
        "  --|-----------|\n",
        "  ```"
      ],
      "metadata": {
        "id": "CzWzzrukoe8v"
      }
    },
    {
      "cell_type": "markdown",
      "source": [
        "Now, let's implement this truth table as a Pandas Dataframe, accounting for all possibilities of A and B. "
      ],
      "metadata": {
        "id": "me4aew1YqXye"
      }
    },
    {
      "cell_type": "code",
      "source": [
        "import pandas as pd\n",
        "\n",
        "truthTable = pd.DataFrame({'A':[0,1,0,1],\n",
        "                           'B':[0,0,1,1],\n",
        "                           'O':[0,1,0,0]})"
      ],
      "metadata": {
        "id": "iQhM0zOZqWx0"
      },
      "execution_count": 1,
      "outputs": []
    },
    {
      "cell_type": "markdown",
      "source": [
        "#Perceptron Training\n",
        "\n",
        "The following is the implementation of a two input perceptron. A perceptron makes a linear combination of the weights and input values. The result of this linear combination is compared with a threshold value to make a determination. In the context of this problem, the weights will make a linear combination with inputs A and B to determine if the result should be a 0 or a 1. \n",
        "\n",
        "First, let's declare some initial values and constants.\n",
        "  - I initialize the weights to be 0.5 (between 0 and 1).\n",
        "  - I set the learning rate to be 0.05.\n",
        "  - We will do 16 iterations of learning.\n"
      ],
      "metadata": {
        "id": "I2t-hdPRp-vE"
      }
    },
    {
      "cell_type": "code",
      "source": [
        "import statistics\n",
        "from itertools import product\n",
        "import matplotlib.pyplot as plt\n",
        "import numpy as np\n",
        "\n",
        "#Weights\n",
        "w = [0.5, 0.5, 0.5]\n",
        "#Learning Rate\n",
        "rate = 0.05\n",
        "#Iterations\n",
        "n = 16\n",
        "#Output\n",
        "output = -1\n",
        "#Correct Calculations\n",
        "accuracy = []\n",
        "temp = []"
      ],
      "metadata": {
        "id": "OjgNXzh-pz-M"
      },
      "execution_count": 2,
      "outputs": []
    },
    {
      "cell_type": "markdown",
      "source": [
        "Now, lets train the perceptron. The perceptron trains by comparing the perceptron result to the expected result. Then, it adjusts the weight according to this comparison and the learning rate in the following formula:\n",
        " $$w_i = w_i + learningRate(actualOutput - perceptronOutput) * input_i$$\n",
        "\n",
        " This training will run through as many iterations as described above. "
      ],
      "metadata": {
        "id": "UVg4ZWd8sAgK"
      }
    },
    {
      "cell_type": "code",
      "source": [
        "for i in range(0,n):\n",
        "  for j in range(0,4):\n",
        "    #Calculate Linear Combination\n",
        "    result = w[0] * truthTable.A[j] + w[1] * truthTable.B[j] + w[2]\n",
        "    #Use the Linear Combination to determine the output\n",
        "    if result > 0.5:\n",
        "      output = 1\n",
        "    else:\n",
        "      output = 0\n",
        "    #Adjust the weights accordingly\n",
        "    w[0] = w[0] + rate * (truthTable.O[j] - output) * truthTable.A[j]\n",
        "    w[1] = w[1] + rate * (truthTable.O[j] - output) * truthTable.B[j]\n",
        "    w[2] = w[2] + rate * (truthTable.O[j] - output) * 1\n",
        "    #See how close the output is to the desired result\n",
        "    temp.append(abs(result - truthTable.O[j]))\n",
        "  accuracy.append(statistics.mean(temp))\n",
        "  temp = []"
      ],
      "metadata": {
        "id": "efBE-mlfr9D_"
      },
      "execution_count": 3,
      "outputs": []
    },
    {
      "cell_type": "markdown",
      "source": [
        "#Results\n",
        "\n",
        "Now the perceptron is trained. Let's graph the result of the perceptron for all combinations of values A and B between 0 and 1.\n",
        "\n",
        "The yellow indicates where the perceptron outputs a 1 and the purple indicates where the perceptron outputs a 0. "
      ],
      "metadata": {
        "id": "-sHIdgYwuoIi"
      }
    },
    {
      "cell_type": "code",
      "source": [
        "#Declare and set up the inputs\n",
        "x = np.linspace(0,1,100)\n",
        "y = np.linspace(0,1,100)\n",
        "griddy = list(product(x,y))\n",
        "distances = list()\n",
        "\n",
        "#Use the perceptron weights to make the graph\n",
        "for v in griddy:\n",
        "  distances.append((w[0]*v[0] + w[1]*v[1] + w[2]) > 0.5)\n",
        "\n",
        "#Now plot the graph\n",
        "distMatrix = np.reshape(distances,(100,100))\n",
        "heatmap = plt.pcolormesh(x,y,distMatrix)\n",
        "plt.colorbar(heatmap)\n",
        "plt.title(\"Perceptron for all Values Between 0 and 1\", fontweight=\"bold\")\n",
        "plt.xlabel(\"B\")\n",
        "plt.ylabel(\"A\")\n",
        "plt.xticks(np.arange(0, 1.1, step=0.1))\n",
        "plt.yticks(np.arange(0, 1.1, step=0.1))\n",
        "plt.show"
      ],
      "metadata": {
        "colab": {
          "base_uri": "https://localhost:8080/",
          "height": 313
        },
        "id": "0vQEErsrulYH",
        "outputId": "c6e44752-a6b6-49e7-e7df-d894b4d87abf"
      },
      "execution_count": 4,
      "outputs": [
        {
          "output_type": "execute_result",
          "data": {
            "text/plain": [
              "<function matplotlib.pyplot.show(*args, **kw)>"
            ]
          },
          "metadata": {},
          "execution_count": 4
        },
        {
          "output_type": "display_data",
          "data": {
            "text/plain": [
              "<Figure size 432x288 with 2 Axes>"
            ],
            "image/png": "[encoded data removed]"
          },
          "metadata": {
            "needs_background": "light"
          }
        }
      ]
    },
    {
      "cell_type": "markdown",
      "source": [
        "Finally, let's track the accuracy of the perceptron over each iteration. I chose to show error by taking the difference between the result of the linear combination in the perceptron and the target value. There are four of these measurements per iteration, as there are four training samples. The average difference between the result of the linear combination and the target value was found for each iteration and graphed as shown below. "
      ],
      "metadata": {
        "id": "8wn_ziEau7_c"
      }
    },
    {
      "cell_type": "code",
      "source": [
        "plt.title(\"Average Accuracy to Target per Iteration\", fontweight=\"bold\") \n",
        "plt.xlabel(\"Iteration\") \n",
        "plt.ylabel(\"Avg. Accuracy\") \n",
        "plt.xticks(np.arange(0, 16, step=1))\n",
        "plt.yticks(np.arange(0, 1, step=0.05))\n",
        "plt.plot(accuracy,'.-m') \n",
        "ax = plt.axes()\n",
        "ax.spines['top'].set_visible(False)\n",
        "ax.spines['right'].set_visible(False)\n",
        "plt.show()"
      ],
      "metadata": {
        "id": "9cr5bNLLvCcc",
        "colab": {
          "base_uri": "https://localhost:8080/",
          "height": 352
        },
        "outputId": "6ec371d7-422f-44f0-f5aa-0c0d9964528e"
      },
      "execution_count": 5,
      "outputs": [
        {
          "output_type": "stream",
          "name": "stderr",
          "text": [
            "<ipython-input-5-2995546afc36>:7: MatplotlibDeprecationWarning: Adding an axes using the same arguments as a previous axes currently reuses the earlier instance.  In a future version, a new instance will always be created and returned.  Meanwhile, this warning can be suppressed, and the future behavior ensured, by passing a unique label to each axes instance.\n",
            "  ax = plt.axes()\n"
          ]
        },
        {
          "output_type": "display_data",
          "data": {
            "text/plain": [
              "<Figure size 432x288 with 1 Axes>"
            ],
            "image/png": "[encoded data removed]"
          },
          "metadata": {
            "needs_background": "light"
          }
        }
      ]
    },
    {
      "cell_type": "markdown",
      "source": [
        "In each of the first 10 iterations, the accuracy decreases before bottoming out at 0.30. Therefore, this graph shows the perceptron increasing in accuracy for each of the first 10 iterations. "
      ],
      "metadata": {
        "id": "M7Anpc9gkhpI"
      }
    }
  ]
}