{
  "cells": [
    {
      "cell_type": "markdown",
      "metadata": {
        "id": "view-in-github",
        "colab_type": "text"
      },
      "source": [
        "<a href=\"https://colab.research.google.com/github/zbrubaker/portfolio/blob/main/Project3.ipynb\" target=\"_parent\"><img src=\"https://colab.research.google.com/assets/colab-badge.svg\" alt=\"Open In Colab\"/></a>"
      ]
    },
    {
      "cell_type": "markdown",
      "metadata": {
        "id": "q1JhvNgCcDSc"
      },
      "source": [
        "#Intro\n",
        "\n",
        "Zachary Brubaker\n",
        "\n",
        "CS-4430\n",
        "\n",
        "Project 3 -- Train a Neural Net to Classify Handwritten Characters\n",
        "\n",
        "You can access this notebook at: https://github.com/zbrubaker/portfolio/blob/main/Project3.ipynb"
      ]
    },
    {
      "cell_type": "markdown",
      "source": [
        "#Train the Model for Classification\n"
      ],
      "metadata": {
        "id": "_njaU-AFS91c"
      }
    },
    {
      "cell_type": "markdown",
      "source": [
        "First, import all necessary libraries."
      ],
      "metadata": {
        "id": "4Bw-NZuqTF5K"
      }
    },
    {
      "cell_type": "code",
      "execution_count": 1,
      "metadata": {
        "id": "2A3lay0mb7P2",
        "colab": {
          "base_uri": "https://localhost:8080/"
        },
        "outputId": "fcf60806-1e1f-4733-a92f-ee745d984ddd"
      },
      "outputs": [
        {
          "output_type": "stream",
          "name": "stdout",
          "text": [
            "Looking in indexes: https://pypi.org/simple, https://us-python.pkg.dev/colab-wheels/public/simple/\n",
            "Requirement already satisfied: gdown in /usr/local/lib/python3.8/dist-packages (4.6.0)\n",
            "Requirement already satisfied: tqdm in /usr/local/lib/python3.8/dist-packages (from gdown) (4.64.1)\n",
            "Requirement already satisfied: filelock in /usr/local/lib/python3.8/dist-packages (from gdown) (3.9.0)\n",
            "Requirement already satisfied: six in /usr/local/lib/python3.8/dist-packages (from gdown) (1.15.0)\n",
            "Requirement already satisfied: requests[socks] in /usr/local/lib/python3.8/dist-packages (from gdown) (2.25.1)\n",
            "Requirement already satisfied: beautifulsoup4 in /usr/local/lib/python3.8/dist-packages (from gdown) (4.6.3)\n",
            "Requirement already satisfied: certifi>=2017.4.17 in /usr/local/lib/python3.8/dist-packages (from requests[socks]->gdown) (2022.12.7)\n",
            "Requirement already satisfied: idna<3,>=2.5 in /usr/local/lib/python3.8/dist-packages (from requests[socks]->gdown) (2.10)\n",
            "Requirement already satisfied: urllib3<1.27,>=1.21.1 in /usr/local/lib/python3.8/dist-packages (from requests[socks]->gdown) (1.24.3)\n",
            "Requirement already satisfied: chardet<5,>=3.0.2 in /usr/local/lib/python3.8/dist-packages (from requests[socks]->gdown) (4.0.0)\n",
            "Requirement already satisfied: PySocks!=1.5.7,>=1.5.6 in /usr/local/lib/python3.8/dist-packages (from requests[socks]->gdown) (1.7.1)\n"
          ]
        }
      ],
      "source": [
        "#support for large, multi-dimensional arrays and matrices \n",
        "#and a large collection of high-level mathematical functions  \n",
        "#to operate on these arrays \n",
        "#NOTE: most functionality found in Matlab is in numpy too \n",
        "import numpy as np \n",
        " \n",
        "#PyTorch - Open Source machine learning library \n",
        "import torch  \n",
        " \n",
        "# package consists of popular datasets, model architectures, and common image transformations for computer vision. \n",
        "import torchvision  \n",
        " \n",
        "#Plotting tools that implement Matlab-like operations \n",
        "import matplotlib.pyplot as plt  \n",
        " \n",
        "from torchvision import datasets, transforms #image datasets and  common image transformations. \n",
        "from torch import nn, optim #basic building block for graphs, and  package implementing various optimization algorithms. \n",
        "\n",
        "#Import for downloading images from Google Drive\n",
        "!pip install --upgrade --no-cache-dir gdown\n",
        "\n",
        "import gdown"
      ]
    },
    {
      "cell_type": "markdown",
      "source": [
        "##Import the MNIST Dataset"
      ],
      "metadata": {
        "id": "XkKpb8LhNRV0"
      }
    },
    {
      "cell_type": "code",
      "execution_count": 2,
      "metadata": {
        "id": "z5V1X3C1dgEB"
      },
      "outputs": [],
      "source": [
        "#transform to prep dataset for input into NN \n",
        "transform = transforms.Compose([transforms.ToTensor(), transforms.Normalize((0.5,), (0.5,))])"
      ]
    },
    {
      "cell_type": "code",
      "source": [
        "training_set = datasets.MNIST('-/.pytorch/MNIST_data/', download=True, train=True, transform=transform) \n",
        "trainloader = torch.utils.data.DataLoader(training_set, batch_size=64, shuffle=True)\n",
        "\n",
        "#create an iterator for the dataset \n",
        "dataiter = iter(trainloader) \n",
        "images, labels = next(dataiter)\n",
        "\n",
        "plt.imshow(images[0].numpy().squeeze(), cmap= \"Greys_r\")"
      ],
      "metadata": {
        "id": "m7_eyqwusfw5",
        "colab": {
          "base_uri": "https://localhost:8080/",
          "height": 283
        },
        "outputId": "5334696c-7325-4ca8-9bd5-b4a2e07d1ba0"
      },
      "execution_count": 3,
      "outputs": [
        {
          "output_type": "execute_result",
          "data": {
            "text/plain": [
              "<matplotlib.image.AxesImage at 0x7ff247085eb0>"
            ]
          },
          "metadata": {},
          "execution_count": 3
        },
        {
          "output_type": "display_data",
          "data": {
            "text/plain": [
              "<Figure size 432x288 with 1 Axes>"
            ],
            "image/png": "[encoded data removed]"
          },
          "metadata": {
            "needs_background": "light"
          }
        }
      ]
    },
    {
      "cell_type": "markdown",
      "source": [
        "##Train the Model\n",
        "\n",
        "Use the images from the MNIST dataset to train the model."
      ],
      "metadata": {
        "id": "9i4URms_Oo5v"
      }
    },
    {
      "cell_type": "code",
      "execution_count": 4,
      "metadata": {
        "id": "VHX-okeUdq1n"
      },
      "outputs": [],
      "source": [
        "# 784 inputs, 128  hiddenl (ReLU), 64 hidden2 (ReLU), 10 output (Softmax) \n",
        "input_size = 784 \n",
        "hidden_sizes = [128, 64] \n",
        "output_size = 10 \n",
        " \n",
        "#a feed-forward network using a sequential container \n",
        "# (Modules will be added to it in the order they are passed in the constructor) \n",
        "model= nn.Sequential(nn.Linear(input_size, hidden_sizes[0]), nn.ReLU(), nn.Linear(hidden_sizes[0], hidden_sizes\n",
        "[1]),nn.Linear(hidden_sizes[1], output_size), nn.Softmax(dim=1)) \n",
        " \n",
        "dataiter = iter(trainloader) \n",
        "images, labels = next(dataiter) \n",
        " \n",
        "images.resize_(images.shape[0], 1, 784) \n",
        "ps = model.forward(images[0, :]) \n",
        " \n",
        "#define loss function \n",
        "criterion = nn.NLLLoss() \n",
        " \n",
        "#iterate over the data \n",
        "dataiter = iter(trainloader) \n",
        "images, labels = next(dataiter) \n",
        " \n",
        "#reshape data \n",
        "images = images.view(images.shape[0], -1) \n",
        " \n",
        "#Feed forward \n",
        "logps = model(images) \n",
        "loss = criterion(logps, labels)"
      ]
    },
    {
      "cell_type": "code",
      "execution_count": 5,
      "metadata": {
        "colab": {
          "base_uri": "https://localhost:8080/"
        },
        "id": "mcQblR3sdzGi",
        "outputId": "4fa0fcb1-1904-4bd2-9441-60c65a0afa3a"
      },
      "outputs": [
        {
          "output_type": "stream",
          "name": "stdout",
          "text": [
            "0 -0.17182937158799882\n",
            "1 -0.3780815507938613\n",
            "2 -0.6022000766829896\n",
            "3 -0.6995803484403248\n",
            "4 -0.7242710289162105\n",
            "5 -0.7382662155862048\n",
            "6 -0.8163035126891471\n",
            "7 -0.8541649510102994\n",
            "8 -0.8694298584451045\n",
            "9 -0.8785390308670906\n",
            "10 -0.8847002692059922\n",
            "11 -0.8895492922903886\n",
            "12 -0.8934943621982135\n",
            "13 -0.8965352026384268\n",
            "14 -0.8993974378876595\n",
            "15 -0.901620536597807\n",
            "16 -0.9039254015061393\n",
            "17 -0.9056346903223473\n",
            "18 -0.907316773557968\n",
            "19 -0.9091032329779952\n",
            "20 -0.9104300500360379\n",
            "21 -0.911971073033713\n",
            "22 -0.913146394148056\n",
            "23 -0.9145184300982876\n",
            "24 -0.9155322489962141\n"
          ]
        }
      ],
      "source": [
        "optimizer = optim.SGD(model.parameters(), lr=0.001, momentum=0.9) \n",
        " \n",
        "#how many training epochs \n",
        "epochs = 25\n",
        "for e in range(epochs): \n",
        "    running_loss = 0 \n",
        "    for images, labels in trainloader: \n",
        "         \n",
        "        images = images.view(images.shape[0], -1) \n",
        "         \n",
        "        optimizer.zero_grad() \n",
        "        output = model(images) \n",
        "        loss = criterion(output, labels) \n",
        "         \n",
        "        #Backpropagation \n",
        "        loss.backward() \n",
        "        optimizer.step() \n",
        "        running_loss += loss.item() \n",
        "     \n",
        "    else: \n",
        "        print(e, running_loss/len(trainloader)) "
      ]
    },
    {
      "cell_type": "markdown",
      "source": [
        "##Calculate the Model Accuracy"
      ],
      "metadata": {
        "id": "9JheaQzbPSJY"
      }
    },
    {
      "cell_type": "code",
      "execution_count": 6,
      "metadata": {
        "id": "woCosZkRd3b8",
        "colab": {
          "base_uri": "https://localhost:8080/"
        },
        "outputId": "8e56d0dd-01aa-4b24-bf09-6be070b00050"
      },
      "outputs": [
        {
          "output_type": "stream",
          "name": "stdout",
          "text": [
            "Model Accuracy = 0.9254166666666667\n"
          ]
        }
      ],
      "source": [
        "#generate measure for model accuracy \n",
        "correct = 0 \n",
        "all_counted = 0 \n",
        " \n",
        "for images,labels in trainloader: \n",
        "  for i in range(len(labels)): \n",
        "    img = images[i].view(1, 784) \n",
        "    with torch.no_grad(): \n",
        "        logps = model(img) \n",
        "    ps = torch.exp(logps) \n",
        "     \n",
        "    probability = list(ps.numpy()[0]) \n",
        "     \n",
        "    pred_label = probability.index(max(probability)) \n",
        "    true_label = labels.numpy()[i] \n",
        "    if(true_label == pred_label): \n",
        "      correct += 1 \n",
        "    all_counted += 1 \n",
        " \n",
        "print(\"Model Accuracy =\", (correct/all_counted))"
      ]
    },
    {
      "cell_type": "markdown",
      "source": [
        "Therefore, the Neural Network classification classifies images in the MNIST dataset with 92.5% accuracy."
      ],
      "metadata": {
        "id": "XBbYI2D0aW7r"
      }
    },
    {
      "cell_type": "markdown",
      "source": [
        "#Test 1: The Model with Handwritten Images\n",
        "\n",
        "I will now import handwritten images and test the accuracy of the model in classifying these images. First, I will download these images from my Google Drive. Then, I will convert them into the appropriate data type to be run through the model."
      ],
      "metadata": {
        "id": "-aaAtgdMPaiV"
      }
    },
    {
      "cell_type": "markdown",
      "source": [
        "##Import Handwritten Images"
      ],
      "metadata": {
        "id": "hKioybg6QS2j"
      }
    },
    {
      "cell_type": "code",
      "source": [
        "url = \"https://drive.google.com/drive/folders/1Mx1d70tj8Cc6WSIuO2dl0mi_hsu37zE4?usp=share_link\"\n",
        "gdown.download_folder(url, quiet=True, use_cookies=False)"
      ],
      "metadata": {
        "id": "2nQzzqWLNK16",
        "colab": {
          "base_uri": "https://localhost:8080/"
        },
        "outputId": "b82e8c26-fd31-407d-d882-480bc0f3adeb"
      },
      "execution_count": 7,
      "outputs": [
        {
          "output_type": "execute_result",
          "data": {
            "text/plain": [
              "['/content/Numbers/0image.png',\n",
              " '/content/Numbers/1image.png',\n",
              " '/content/Numbers/2image.png',\n",
              " '/content/Numbers/3image.png',\n",
              " '/content/Numbers/4image.png',\n",
              " '/content/Numbers/5image.png',\n",
              " '/content/Numbers/6image.png',\n",
              " '/content/Numbers/7image.png',\n",
              " '/content/Numbers/8image.png',\n",
              " '/content/Numbers/9image.png']"
            ]
          },
          "metadata": {},
          "execution_count": 7
        }
      ]
    },
    {
      "cell_type": "code",
      "source": [
        "from torch.utils.data import TensorDataset, DataLoader\n",
        "# import required module\n",
        "import os\n",
        "# assign directory\n",
        "directory = './Numbers/'\n",
        "from PIL import Image\n",
        "\n",
        "files = []\n",
        "targets = []\n",
        "\n",
        "# iterate over files in the directory\n",
        "for filename in os.listdir(directory):\n",
        "    f = os.path.join(directory, filename)\n",
        "    targets.append(int(filename[0]))\n",
        "    files.append(f)\n",
        "\n",
        "images = []\n",
        "\n",
        "for f in files:\n",
        "  img = Image.open(f)\n",
        "  img = img.convert('L')\n",
        "  img_array = np.asarray(img)\n",
        "  bw = (img_array > img_array.mean() - 1) * 255\n",
        "  bw = 255 - bw\n",
        "  images.append(bw)\n",
        "\n",
        "#Transform the images to a Tensor\n",
        "x = torch.Tensor(images) \n",
        "y = torch.Tensor(targets)\n",
        "y = y.long()\n",
        "\n",
        "dataset = TensorDataset(x,y)\n",
        "importedData = DataLoader(dataset, batch_size=10, shuffle=True)\n",
        "\n",
        "plt.imshow(images[0].reshape((28, 28)), cmap=plt.cm.gray)\n",
        "targets"
      ],
      "metadata": {
        "id": "efkYnvBUT82t",
        "colab": {
          "base_uri": "https://localhost:8080/",
          "height": 283
        },
        "outputId": "af51374d-46c9-4702-f2d6-6a1a8b99f0bc"
      },
      "execution_count": 17,
      "outputs": [
        {
          "output_type": "execute_result",
          "data": {
            "text/plain": [
              "[8, 0, 3, 4, 5, 7, 9, 6, 2, 1]"
            ]
          },
          "metadata": {},
          "execution_count": 17
        },
        {
          "output_type": "display_data",
          "data": {
            "text/plain": [
              "<Figure size 432x288 with 1 Axes>"
            ],
            "image/png": "[encoded data removed]"
          },
          "metadata": {
            "needs_background": "light"
          }
        }
      ]
    },
    {
      "cell_type": "markdown",
      "source": [
        "##Calculate the Model Accuracy for Classifying These Images"
      ],
      "metadata": {
        "id": "05W5TvE3QO1W"
      }
    },
    {
      "cell_type": "code",
      "source": [
        "#generate measure for model accuracy \n",
        "correct = 0 \n",
        "all_counted = 0 \n",
        "\n",
        "#Make Subplots\n",
        "plt.figure(figsize=(2.8 * 5, 2.4 * 2))\n",
        "plt.subplots_adjust(bottom=0, left=0.01, right=0.99, top=0.90, hspace=0.35)\n",
        "\n",
        "#Use the importedData to test accuracy\n",
        "for images,labels in importedData: \n",
        "  for i in range(len(labels)): \n",
        "    img = images[i].view(1, 784) \n",
        "    with torch.no_grad(): \n",
        "        logps = model(img) \n",
        "    ps = torch.exp(logps) \n",
        "     \n",
        "    probability = list(ps.numpy()[0]) \n",
        "     \n",
        "    pred_label = probability.index(max(probability)) \n",
        "    true_label = labels.numpy()[i]\n",
        "    \n",
        "    #Graph the Predictions\n",
        "    plt.subplot(2, 5, i + 1)\n",
        "    plt.title(\"Predicted: {a} Actual: {b}\".format(a=pred_label,b=true_label))\n",
        "    plt.imshow(images[i].reshape((28, 28)), cmap=plt.cm.gray)\n",
        "    plt.xticks(())\n",
        "    plt.yticks(())\n",
        "\n",
        "    #Print the predictions\n",
        "    print(\"Predicted: {a} Actual: {b}\".format(a=pred_label,b=true_label))\n",
        "    \n",
        "    if(true_label == pred_label): \n",
        "      correct += 1 \n",
        "    all_counted += 1 \n",
        " \n",
        "print(\"Model Accuracy =\", (correct/all_counted))"
      ],
      "metadata": {
        "colab": {
          "base_uri": "https://localhost:8080/",
          "height": 563
        },
        "id": "CHP8nqHVQNuy",
        "outputId": "c4c038ac-7e59-4c43-9913-47dc7c23d11a"
      },
      "execution_count": 18,
      "outputs": [
        {
          "output_type": "stream",
          "name": "stdout",
          "text": [
            "Predicted: 7 Actual: 7\n",
            "Predicted: 0 Actual: 0\n",
            "Predicted: 8 Actual: 2\n",
            "Predicted: 3 Actual: 8\n",
            "Predicted: 6 Actual: 6\n",
            "Predicted: 1 Actual: 1\n",
            "Predicted: 8 Actual: 9\n",
            "Predicted: 8 Actual: 5\n",
            "Predicted: 3 Actual: 3\n",
            "Predicted: 8 Actual: 4\n",
            "Model Accuracy = 0.5\n"
          ]
        },
        {
          "output_type": "display_data",
          "data": {
            "text/plain": [
              "<Figure size 1008x345.6 with 10 Axes>"
            ],
            "image/png": "[encoded data removed]"
          },
          "metadata": {}
        }
      ]
    },
    {
      "cell_type": "markdown",
      "source": [
        "It can be seen that the model trained on the MNIST dataset accurately classifies 50-70% of the imported images. (previously, a score of 70 was achieved)."
      ],
      "metadata": {
        "id": "ualjL712b_vk"
      }
    },
    {
      "cell_type": "markdown",
      "source": [
        "#Test 2: The Model Against Rotated Data\n",
        "\n",
        "I will now test how well the classification algorithm works on rotated images."
      ],
      "metadata": {
        "id": "d02SIa8jR5NP"
      }
    },
    {
      "cell_type": "markdown",
      "source": [
        "##Rotate the Imported Images\n",
        "\n",
        "Rotate the images 90 degrees."
      ],
      "metadata": {
        "id": "dJU4DYVP3qlT"
      }
    },
    {
      "cell_type": "code",
      "source": [
        "images = []\n",
        "for f in files:\n",
        "  col = Image.open(f)\n",
        "  col = col.rotate(90) #Rotate the images \n",
        "  gry = col.convert('L')\n",
        "  grarray = np.asarray(gry)\n",
        "  bw = (grarray > grarray.mean() - 1) * 255\n",
        "  bw = 255 - bw\n",
        "  # images.append(torch.from_numpy(bw).unsqueeze(0).float())\n",
        "  images.append(bw)\n",
        "#Make an arry of torches that stack on each other.\n",
        "# images = torch.stack(images, dim=0)\n",
        "\n",
        "tensor_x = torch.Tensor(images) # transform to torch tensor\n",
        "tensor_y = torch.Tensor(y)\n",
        "tensor_y = tensor_y.long()\n",
        "\n",
        "my_dataset = TensorDataset(tensor_x,tensor_y) # create your datset\n",
        "importedData = DataLoader(my_dataset, batch_size=10, shuffle=True)\n",
        "\n",
        "plt.imshow(images[0].reshape((28, 28)), cmap=plt.cm.gray)\n",
        "y"
      ],
      "metadata": {
        "id": "nuNl7dWS3QCL",
        "colab": {
          "base_uri": "https://localhost:8080/",
          "height": 283
        },
        "outputId": "2d55542f-d4e5-4dd1-831e-5a67c966add9"
      },
      "execution_count": 10,
      "outputs": [
        {
          "output_type": "execute_result",
          "data": {
            "text/plain": [
              "tensor([8, 0, 3, 4, 5, 7, 9, 6, 2, 1])"
            ]
          },
          "metadata": {},
          "execution_count": 10
        },
        {
          "output_type": "display_data",
          "data": {
            "text/plain": [
              "<Figure size 432x288 with 1 Axes>"
            ],
            "image/png": "[encoded data removed]"
          },
          "metadata": {
            "needs_background": "light"
          }
        }
      ]
    },
    {
      "cell_type": "markdown",
      "source": [
        "##Find the Model Accuracy for Rotated Images."
      ],
      "metadata": {
        "id": "7f_4Umfn9F8L"
      }
    },
    {
      "cell_type": "code",
      "source": [
        "#generate measure for model accuracy \n",
        "correct = 0 \n",
        "all_counted = 0 \n",
        "\n",
        "#Make Subplots\n",
        "plt.figure(figsize=(2.8 * 5, 2.4 * 2))\n",
        "plt.subplots_adjust(bottom=0, left=0.01, right=0.99, top=0.90, hspace=0.35)\n",
        "\n",
        "#Use the importedData to test accuracy\n",
        "for images,labels in importedData: \n",
        "  for i in range(len(labels)): \n",
        "    img = images[i].view(1, 784) \n",
        "    with torch.no_grad(): \n",
        "        logps = model(img) \n",
        "    ps = torch.exp(logps) \n",
        "     \n",
        "    probability = list(ps.numpy()[0]) \n",
        "     \n",
        "    pred_label = probability.index(max(probability)) \n",
        "    true_label = labels.numpy()[i]\n",
        "    \n",
        "    #Graph the Predictions\n",
        "    plt.subplot(2, 5, i + 1)\n",
        "    plt.title(\"Predicted: {a} Actual: {b}\".format(a=pred_label,b=true_label))\n",
        "    plt.imshow(images[i].reshape((28, 28)), cmap=plt.cm.gray)\n",
        "    plt.xticks(())\n",
        "    plt.yticks(())\n",
        "\n",
        "    #Print the predictions\n",
        "    print(\"Predicted: {a} Actual: {b}\".format(a=pred_label,b=true_label))\n",
        "    \n",
        "    if(true_label == pred_label): \n",
        "      correct += 1 \n",
        "    all_counted += 1 \n",
        " \n",
        "print(\"Model Accuracy =\", (correct/all_counted))"
      ],
      "metadata": {
        "colab": {
          "base_uri": "https://localhost:8080/",
          "height": 563
        },
        "id": "7WDGukcq8gUj",
        "outputId": "9837970f-9889-4aef-80dd-7f3ad34dd3cf"
      },
      "execution_count": 11,
      "outputs": [
        {
          "output_type": "stream",
          "name": "stdout",
          "text": [
            "Predicted: 4 Actual: 2\n",
            "Predicted: 8 Actual: 5\n",
            "Predicted: 8 Actual: 9\n",
            "Predicted: 8 Actual: 8\n",
            "Predicted: 0 Actual: 0\n",
            "Predicted: 0 Actual: 7\n",
            "Predicted: 0 Actual: 4\n",
            "Predicted: 8 Actual: 3\n",
            "Predicted: 6 Actual: 6\n",
            "Predicted: 4 Actual: 1\n",
            "Model Accuracy = 0.3\n"
          ]
        },
        {
          "output_type": "display_data",
          "data": {
            "text/plain": [
              "<Figure size 1008x345.6 with 10 Axes>"
            ],
            "image/png": "[encoded data removed]"
          },
          "metadata": {}
        }
      ]
    },
    {
      "cell_type": "markdown",
      "source": [
        "It can be seen that the classification trained on the MNIST dataset correctly classifies 30% of the images correctly. It only correctly classifies the 0, 8, and 6. (Previous versions had been worse, this is the best one that I have seen)."
      ],
      "metadata": {
        "id": "6zK098Kgce_c"
      }
    },
    {
      "cell_type": "markdown",
      "source": [
        "#Test 3: The Model Against Scaled and Translated Data\n",
        "\n"
      ],
      "metadata": {
        "id": "tXWBnYCG8wja"
      }
    },
    {
      "cell_type": "markdown",
      "source": [
        "I will now scale the images down and move them to the lower right corner. Then, we will see if the classification algorithm works on them. \n",
        "\n",
        "The following code is a function that scales the image by the ```zoom_factor```"
      ],
      "metadata": {
        "id": "J33QrJy5SUee"
      }
    },
    {
      "cell_type": "code",
      "source": [
        "import numpy as np\n",
        "from scipy.ndimage import zoom\n",
        "\n",
        "\n",
        "def clipped_zoom(img, zoom_factor, **kwargs):\n",
        "\n",
        "    h, w = img.shape[:2]\n",
        "\n",
        "    # For multichannel images we don't want to apply the zoom factor to the RGB\n",
        "    # dimension, so instead we create a tuple of zoom factors, one per array\n",
        "    # dimension, with 1's for any trailing dimensions after the width and height.\n",
        "    zoom_tuple = (zoom_factor,) * 2 + (1,) * (img.ndim - 2)\n",
        "\n",
        "    # Zooming out\n",
        "    if zoom_factor < 1:\n",
        "\n",
        "        # Bounding box of the zoomed-out image within the output array\n",
        "        zh = int(np.round(h * zoom_factor))\n",
        "        zw = int(np.round(w * zoom_factor))\n",
        "        top = (h - zh) // 2\n",
        "        left = (w - zw) // 2\n",
        "\n",
        "        # Zero-padding\n",
        "        out = np.zeros_like(img)\n",
        "        out[top:top+zh, left:left+zw] = zoom(img, zoom_tuple, **kwargs)\n",
        "\n",
        "    # Zooming in\n",
        "    elif zoom_factor > 1:\n",
        "\n",
        "        # Bounding box of the zoomed-in region within the input array\n",
        "        zh = int(np.round(h / zoom_factor))\n",
        "        zw = int(np.round(w / zoom_factor))\n",
        "        top = (h - zh) // 2\n",
        "        left = (w - zw) // 2\n",
        "\n",
        "        out = zoom(img[top:top+zh, left:left+zw], zoom_tuple, **kwargs)\n",
        "\n",
        "        # `out` might still be slightly larger than `img` due to rounding, so\n",
        "        # trim off any extra pixels at the edges\n",
        "        trim_top = ((out.shape[0] - h) // 2)\n",
        "        trim_left = ((out.shape[1] - w) // 2)\n",
        "        out = out[trim_top:trim_top+h, trim_left:trim_left+w]\n",
        "\n",
        "    # If zoom_factor == 1, just return the input array\n",
        "    else:\n",
        "        out = img\n",
        "    return out"
      ],
      "metadata": {
        "id": "DyTHnRf8NrRF"
      },
      "execution_count": 12,
      "outputs": []
    },
    {
      "cell_type": "markdown",
      "source": [
        "Now, scale and transform the images to put the number in the bottom right corner."
      ],
      "metadata": {
        "id": "pKRyjihxoejO"
      }
    },
    {
      "cell_type": "code",
      "source": [
        "images = []\n",
        "tx, ty = 6, 5  # translation on x and y axis, in pixels\n",
        "for f in files:\n",
        "  col = Image.open(f)\n",
        "  gry = col.convert('L')\n",
        "  grarray = np.asarray(gry)\n",
        "  bw = (grarray > grarray.mean() - 1) * 255\n",
        "  bw = 255 - bw\n",
        "  bw = clipped_zoom(bw, 0.7) #Scale the Image\n",
        "  bw = (bw < bw.mean() - 1) * 255\n",
        "  bw = 255 - bw\n",
        "  N, M = bw.shape\n",
        "  \n",
        "  #Translate the Image\n",
        "  image_translated = np.zeros_like(bw)\n",
        "  image_translated[max(tx,0):M+min(tx,0), max(ty,0):N+min(ty,0)] = bw[-min(tx,0):M-max(tx,0), -min(ty,0):N-max(ty,0)] \n",
        "\n",
        "  images.append(image_translated)\n",
        "\n",
        "\n",
        "tensor_x = torch.Tensor(images) # transform to torch tensor\n",
        "tensor_y = torch.Tensor(y)\n",
        "tensor_y = tensor_y.long()\n",
        "\n",
        "my_dataset = TensorDataset(tensor_x,tensor_y) # create your datset\n",
        "importedData = DataLoader(my_dataset, batch_size=10, shuffle=True)\n",
        "\n",
        "plt.imshow(images[4].reshape((28, 28)), cmap=plt.cm.gray)\n",
        "y"
      ],
      "metadata": {
        "colab": {
          "base_uri": "https://localhost:8080/",
          "height": 283
        },
        "id": "Kc1sA3I38prS",
        "outputId": "55079ba2-95e8-4e69-ed12-3d271a4a6cce"
      },
      "execution_count": 13,
      "outputs": [
        {
          "output_type": "execute_result",
          "data": {
            "text/plain": [
              "tensor([8, 0, 3, 4, 5, 7, 9, 6, 2, 1])"
            ]
          },
          "metadata": {},
          "execution_count": 13
        },
        {
          "output_type": "display_data",
          "data": {
            "text/plain": [
              "<Figure size 432x288 with 1 Axes>"
            ],
            "image/png": "[encoded data removed]"
          },
          "metadata": {
            "needs_background": "light"
          }
        }
      ]
    },
    {
      "cell_type": "code",
      "source": [
        "#generate measure for model accuracy \n",
        "correct = 0 \n",
        "all_counted = 0 \n",
        "\n",
        "#Make Subplots\n",
        "plt.figure(figsize=(2.8 * 5, 2.4 * 2))\n",
        "plt.subplots_adjust(bottom=0, left=0.01, right=0.99, top=0.90, hspace=0.35)\n",
        "\n",
        "#Use the importedData to test accuracy\n",
        "for images,labels in importedData: \n",
        "  for i in range(len(labels)): \n",
        "    img = images[i].view(1, 784) \n",
        "    with torch.no_grad(): \n",
        "        logps = model(img) \n",
        "    ps = torch.exp(logps) \n",
        "     \n",
        "    probability = list(ps.numpy()[0]) \n",
        "     \n",
        "    pred_label = probability.index(max(probability)) \n",
        "    true_label = labels.numpy()[i]\n",
        "    \n",
        "    #Graph the Predictions\n",
        "    plt.subplot(2, 5, i + 1)\n",
        "    plt.title(\"Predicted: {a} Actual: {b}\".format(a=pred_label,b=true_label))\n",
        "    plt.imshow(images[i].reshape((28, 28)), cmap=plt.cm.gray)\n",
        "    plt.xticks(())\n",
        "    plt.yticks(())\n",
        "\n",
        "    #Print the predictions\n",
        "    print(\"Predicted: {a} Actual: {b}\".format(a=pred_label,b=true_label))\n",
        "    \n",
        "    if(true_label == pred_label): \n",
        "      correct += 1 \n",
        "    all_counted += 1 \n",
        " \n",
        "print(\"Model Accuracy =\", (correct/all_counted))"
      ],
      "metadata": {
        "colab": {
          "base_uri": "https://localhost:8080/",
          "height": 563
        },
        "id": "Sj9460RkJZ3m",
        "outputId": "68cb1a6b-ad0a-4bb4-9656-4570eaa2689c"
      },
      "execution_count": 14,
      "outputs": [
        {
          "output_type": "stream",
          "name": "stdout",
          "text": [
            "Predicted: 3 Actual: 8\n",
            "Predicted: 6 Actual: 0\n",
            "Predicted: 4 Actual: 5\n",
            "Predicted: 3 Actual: 2\n",
            "Predicted: 2 Actual: 9\n",
            "Predicted: 2 Actual: 4\n",
            "Predicted: 2 Actual: 6\n",
            "Predicted: 2 Actual: 7\n",
            "Predicted: 3 Actual: 1\n",
            "Predicted: 3 Actual: 3\n",
            "Model Accuracy = 0.1\n"
          ]
        },
        {
          "output_type": "display_data",
          "data": {
            "text/plain": [
              "<Figure size 1008x345.6 with 10 Axes>"
            ],
            "image/png": "[encoded data removed]"
          },
          "metadata": {}
        }
      ]
    },
    {
      "cell_type": "markdown",
      "source": [
        "When the scaled images are run through the classifier, the 3 is classified correctly, however all other images are not classified correctly. Therefore, the accuracy of the model on this data is 10%."
      ],
      "metadata": {
        "id": "ohORKHc7eRHO"
      }
    },
    {
      "cell_type": "markdown",
      "source": [
        "#Summary\n",
        "\n",
        "In this project, we used a neural net with stochastic gradient descent and backpropogation to create a classification model which would work to classify an image as a number. This model was trained using the MNIST dataset. Then, the model was tested to see how well it classified different test datasets.\n",
        "\n",
        "First, the classifier was run on the MNIST dataset itself. It classified images in this dataset with 92.5% Accuracy.\n",
        "\n",
        "Next, the classifier was run on a group of ten handwritten digits. The model classified these digits well with an accuracy of around 50%. In my testing, I got values as high as 70%\n",
        "\n",
        "Then, the classifier was run on a group of ten handwritten digits that were rotated 90 degrees. The classifier struggled with these. The classifier got only 30% of these images correct. This was the highest that the classifier had ever gotten. Previously, the classifier never had higher than 10% accuracy on rotated data.\n",
        "\n",
        "Finally, the classifier was run on a group of handwritten digits that were scaled down and translated to the right bottom corner of the image. Here, the classifier only correctly classified the three correctly for 10% accuracy."
      ],
      "metadata": {
        "id": "W49x1gdaoyLA"
      }
    },
    {
      "cell_type": "code",
      "source": [],
      "metadata": {
        "id": "MPxcYbLcrNNJ"
      },
      "execution_count": null,
      "outputs": []
    }
  ],
  "metadata": {
    "colab": {
      "provenance": [],
      "authorship_tag": "ABX9TyO7tAXO73w9HvKeAQiSqlYy",
      "include_colab_link": true
    },
    "kernelspec": {
      "display_name": "Python 3",
      "name": "python3"
    },
    "language_info": {
      "name": "python"
    }
  },
  "nbformat": 4,
  "nbformat_minor": 0
}